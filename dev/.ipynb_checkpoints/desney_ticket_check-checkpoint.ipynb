{
 "cells": [
  {
   "cell_type": "code",
   "execution_count": 1,
   "metadata": {},
   "outputs": [],
   "source": [
    "import pandas as pd\n",
    "import datetime\n",
    "from selenium import webdriver\n",
    "from selenium.webdriver.support.select import Select\n",
    "from bs4 import BeautifulSoup\n",
    "import os,requests,time"
   ]
  },
  {
   "cell_type": "code",
   "execution_count": 2,
   "metadata": {},
   "outputs": [],
   "source": [
    "CHECK_INTERVAL_SEC = 60 * 5\n",
    "CHECK_DOW = ['土','日']\n",
    "ticket_sales_url = 'https://www.tokyodisneyresort.jp/ticket/sales_status/'\n",
    "table_id = 'calendarTableSp ticketStock'"
   ]
  },
  {
   "cell_type": "code",
   "execution_count": 3,
   "metadata": {},
   "outputs": [],
   "source": [
    "# LINE Notify 準備\n",
    "url = \"https://notify-api.line.me/api/notify\"\n",
    "access_token = os.environ['LINEN_TOKEN']\n",
    "headers = {'Authorization': 'Bearer ' + access_token}"
   ]
  },
  {
   "cell_type": "code",
   "execution_count": 4,
   "metadata": {},
   "outputs": [
    {
     "data": {
      "text/plain": [
       "['202105', '202106']"
      ]
     },
     "execution_count": 4,
     "metadata": {},
     "output_type": "execute_result"
    }
   ],
   "source": [
    "year_monthes = [datetime.date.today().strftime('%Y%m'),(datetime.date.today() + pd.DateOffset(days=31)).strftime('%Y%m')]\n",
    "year_monthes"
   ]
  },
  {
   "cell_type": "code",
   "execution_count": 5,
   "metadata": {},
   "outputs": [],
   "source": [
    "browser = webdriver.Chrome(executable_path = 'D:\\\\Python\\\\lib\\\\chromedriver.exe')"
   ]
  },
  {
   "cell_type": "code",
   "execution_count": 6,
   "metadata": {},
   "outputs": [],
   "source": [
    "table_df_old = dict()"
   ]
  },
  {
   "cell_type": "code",
   "execution_count": 7,
   "metadata": {},
   "outputs": [],
   "source": [
    "# ページ情報取得\n",
    "# year_month = year_monthes[1]\n",
    "year_month = '202105'"
   ]
  },
  {
   "cell_type": "code",
   "execution_count": 8,
   "metadata": {},
   "outputs": [
    {
     "name": "stdout",
     "output_type": "stream",
     "text": [
      "定期チェックのプロセスを開始します。\n",
      "定期チェックのプロセスを終了します。\n"
     ]
    },
    {
     "ename": "KeyboardInterrupt",
     "evalue": "",
     "output_type": "error",
     "traceback": [
      "\u001b[1;31m---------------------------------------------------------------------------\u001b[0m",
      "\u001b[1;31mKeyboardInterrupt\u001b[0m                         Traceback (most recent call last)",
      "\u001b[1;32m<ipython-input-8-2343b7753cd6>\u001b[0m in \u001b[0;36m<module>\u001b[1;34m\u001b[0m\n\u001b[0;32m     95\u001b[0m         \u001b[0mtable_df_old\u001b[0m\u001b[1;33m[\u001b[0m\u001b[0myear_month\u001b[0m\u001b[1;33m]\u001b[0m \u001b[1;33m=\u001b[0m \u001b[0mtable_df\u001b[0m\u001b[1;33m.\u001b[0m\u001b[0mcopy\u001b[0m\u001b[1;33m(\u001b[0m\u001b[1;33m)\u001b[0m\u001b[1;33m\u001b[0m\u001b[1;33m\u001b[0m\u001b[0m\n\u001b[0;32m     96\u001b[0m \u001b[1;33m\u001b[0m\u001b[0m\n\u001b[1;32m---> 97\u001b[1;33m         \u001b[0mtime\u001b[0m\u001b[1;33m.\u001b[0m\u001b[0msleep\u001b[0m\u001b[1;33m(\u001b[0m\u001b[0mCHECK_INTERVAL_SEC\u001b[0m\u001b[1;33m)\u001b[0m\u001b[1;33m\u001b[0m\u001b[1;33m\u001b[0m\u001b[0m\n\u001b[0m\u001b[0;32m     98\u001b[0m \u001b[1;32mexcept\u001b[0m \u001b[0mException\u001b[0m \u001b[1;32mas\u001b[0m \u001b[0me\u001b[0m\u001b[1;33m:\u001b[0m\u001b[1;33m\u001b[0m\u001b[1;33m\u001b[0m\u001b[0m\n\u001b[0;32m     99\u001b[0m     \u001b[0mpayload\u001b[0m \u001b[1;33m=\u001b[0m \u001b[1;33m{\u001b[0m\u001b[1;34m'message'\u001b[0m\u001b[1;33m:\u001b[0m \u001b[1;34mf'{e}'\u001b[0m\u001b[1;33m}\u001b[0m\u001b[1;33m\u001b[0m\u001b[1;33m\u001b[0m\u001b[0m\n",
      "\u001b[1;31mKeyboardInterrupt\u001b[0m: "
     ]
    }
   ],
   "source": [
    "start_msg = \"定期チェックのプロセスを開始します。\"\n",
    "payload = {'message': start_msg}\n",
    "r = requests.post(url, headers=headers, params=payload)\n",
    "print(start_msg)\n",
    "\n",
    "try:\n",
    "    while True:\n",
    "        browser.get(ticket_sales_url+year_month)\n",
    "        html = BeautifulSoup(browser.page_source, 'html.parser')\n",
    "        table = html.findAll(class_ = table_id)[0]\n",
    "\n",
    "        table_df = None\n",
    "        for row in table.findAll(['tr']):\n",
    "\n",
    "            if len(row.findAll('th')) > 0:\n",
    "                columns = []\n",
    "                for th in row.findAll('th'):\n",
    "                    columns.append(th['class'][0])\n",
    "\n",
    "                table_df = pd.DataFrame(columns=columns)\n",
    "\n",
    "            elif len(row.findAll('td')) > 0:\n",
    "                day = row.findAll('td')[0].find('div').get_text()      \n",
    "                tdl_status = ' '.join(row.findAll('td')[1]['class'])\n",
    "                tds_status = ' '.join(row.findAll('td')[2]['class'])\n",
    "                data = [day,tdl_status,tds_status]\n",
    "\n",
    "                table_df = table_df.append(dict(zip(table_df.columns,data)), ignore_index=True)\n",
    "\n",
    "\n",
    "        table_df = (\n",
    "            table_df\n",
    "            .pipe(lambda df: \n",
    "                  df[['tdl','tds']]\n",
    "                  .join(\n",
    "                      df.day.apply(lambda x: pd.Series(data=[pd.to_datetime(year_month+x.split('(')[0].zfill(2)),x.split('(')[1][0]],index=['date','dow'] ))\n",
    "                  )\n",
    "                 )\n",
    "            .set_index('date')\n",
    "        )\n",
    "\n",
    "        # table_df_old に値が格納されている場合\n",
    "        if year_month in table_df_old.keys():\n",
    "            # TDL の差分取得\n",
    "            tdl_diff = (\n",
    "                table_df_old[year_month].loc[lambda df: df.dow.isin(CHECK_DOW)]\n",
    "                .join(table_df[['tdl','tds']],rsuffix='_new')\n",
    "                .loc[lambda df: (df.tdl != df.tdl_new) & (df.tdl_new.isin(['tdl','tdl is-few']))]\n",
    "                .replace({'tdl':'〇','tdl is-few':'△'})\n",
    "                .loc[:,['dow','tdl_new']]\n",
    "            )\n",
    "\n",
    "            tdl_msg = \"\"\n",
    "            if tdl_diff.shape[0] > 0:\n",
    "\n",
    "                for idx, row in tdl_diff.iterrows():\n",
    "                    tdl_msg = tdl_msg + f\" {idx.strftime('%m/%d')} ({row.dow}):{row.tdl_new} \\n\"\n",
    "            tdl_msg\n",
    "\n",
    "            # TDS の差分取得\n",
    "            tds_diff = (\n",
    "                table_df_old[year_month].loc[lambda df: df.dow.isin(CHECK_DOW)]\n",
    "                .join(table_df[['tdl','tds']],rsuffix='_new')\n",
    "                .loc[lambda df: (df.tds != df.tds_new) & (df.tds_new.isin(['tds','tds is-few']))]\n",
    "                .replace({'tds':'〇','tds is-few':'△'})\n",
    "                .loc[:,['dow','tds_new']]\n",
    "            )\n",
    "\n",
    "            tds_msg = \"\"\n",
    "            if tds_diff.shape[0] > 0:\n",
    "                for idx, row in tds_diff.iterrows():\n",
    "                    tds_msg = tds_msg + f\" {idx.strftime('%m/%d')} ({row.dow}):{row.tds_new} \\n\"\n",
    "            tds_msg\n",
    "\n",
    "            # LINE 送信メッセージの作成\n",
    "            msg = \"\"\n",
    "\n",
    "            if (tdl_msg != \"\") | (tds_msg != \"\"):\n",
    "                msg = \"チケットが購入可能になりました。\\n\"\n",
    "                if (tdl_msg != \"\"):\n",
    "                    msg = msg + \"ディズニーランド\\n\"\n",
    "                    msg = msg + tdl_msg\n",
    "\n",
    "                if (tds_msg != \"\"):\n",
    "                    msg = msg + \"ディズニーシー\\n\"\n",
    "                    msg = msg + tds_msg\n",
    "\n",
    "                msg = msg + ticket_sales_url+year_month\n",
    "\n",
    "            if msg != \"\":\n",
    "                payload = {'message': msg}\n",
    "                r = requests.post(url, headers=headers, params=payload)\n",
    "                print(msg)\n",
    "\n",
    "        table_df_old[year_month] = table_df.copy()\n",
    "\n",
    "        time.sleep(CHECK_INTERVAL_SEC)\n",
    "except Exception as e:\n",
    "    payload = {'message': f'{e}'}\n",
    "    r = requests.post(url, headers=headers, params=payload)\n",
    "    print(e)\n",
    "finally :\n",
    "    end_msg = \"定期チェックのプロセスを終了します。\"\n",
    "    payload = {'message': end_msg}\n",
    "    r = requests.post(url, headers=headers, params=payload)\n",
    "    print(end_msg)"
   ]
  },
  {
   "cell_type": "code",
   "execution_count": null,
   "metadata": {},
   "outputs": [],
   "source": [
    "# # テスト用コード\n",
    "# table_df.loc['2021-05-29','tdl'] = 'tdl'\n",
    "# table_df.loc['2021-05-29','tds'] = 'tds is-few'\n",
    "# table_df.loc['2021-05-30','tds'] = 'tds'"
   ]
  }
 ],
 "metadata": {
  "kernelspec": {
   "display_name": "Python 3",
   "language": "python",
   "name": "python3"
  },
  "language_info": {
   "codemirror_mode": {
    "name": "ipython",
    "version": 3
   },
   "file_extension": ".py",
   "mimetype": "text/x-python",
   "name": "python",
   "nbconvert_exporter": "python",
   "pygments_lexer": "ipython3",
   "version": "3.8.5"
  }
 },
 "nbformat": 4,
 "nbformat_minor": 4
}
