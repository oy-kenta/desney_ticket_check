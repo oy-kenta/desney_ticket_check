{
 "cells": [
  {
   "cell_type": "code",
   "execution_count": null,
   "metadata": {},
   "outputs": [],
   "source": [
    "import pandas as pd\n",
    "import datetime\n",
    "from selenium import webdriver\n",
    "from selenium.webdriver.support.select import Select\n",
    "from bs4 import BeautifulSoup"
   ]
  },
  {
   "cell_type": "code",
   "execution_count": 39,
   "metadata": {},
   "outputs": [],
   "source": [
    "CHECK_INTERVAL_SEC = 60 * 5\n",
    "CHECK_DOW = ['土','日']\n",
    "ticket_sales_url = 'https://www.tokyodisneyresort.jp/ticket/sales_status/'\n",
    "table_id = 'calendarTableSp ticketStock'"
   ]
  },
  {
   "cell_type": "code",
   "execution_count": null,
   "metadata": {},
   "outputs": [],
   "source": [
    "year_monthes = [datetime.date.today().strftime('%Y%m'),(datetime.date.today() + pd.DateOffset(days=31)).strftime('%Y%m')]\n",
    "year_monthes"
   ]
  },
  {
   "cell_type": "code",
   "execution_count": null,
   "metadata": {},
   "outputs": [],
   "source": [
    "browser = webdriver.Chrome(executable_path = 'D:\\\\Python\\\\lib\\\\chromedriver.exe')"
   ]
  },
  {
   "cell_type": "code",
   "execution_count": 29,
   "metadata": {},
   "outputs": [],
   "source": [
    "table_df_old = dict()"
   ]
  },
  {
   "cell_type": "code",
   "execution_count": 36,
   "metadata": {},
   "outputs": [],
   "source": [
    "# ページ情報取得\n",
    "year_month = year_monthes[1]\n",
    "browser.get(ticket_sales_url+year_month)\n",
    "html = BeautifulSoup(browser.page_source, 'html.parser')\n",
    "table = html.findAll(class_ = table_id)[0]\n",
    "\n",
    "table_df = None\n",
    "for row in table.findAll(['tr']):\n",
    "    \n",
    "    if len(row.findAll('th')) > 0:\n",
    "        columns = []\n",
    "        for th in row.findAll('th'):\n",
    "            columns.append(th['class'][0])\n",
    "\n",
    "        table_df = pd.DataFrame(columns=columns)\n",
    "\n",
    "    elif len(row.findAll('td')) > 0:\n",
    "        day = row.findAll('td')[0].find('div').get_text()      \n",
    "        tdl_status = ' '.join(row.findAll('td')[1]['class'])\n",
    "        tds_status = ' '.join(row.findAll('td')[2]['class'])\n",
    "        data = [day,tdl_status,tds_status]\n",
    "\n",
    "        table_df = table_df.append(dict(zip(table_df.columns,data)), ignore_index=True)\n",
    "\n",
    "    \n",
    "table_df = (\n",
    "    table_df\n",
    "    .pipe(lambda df: \n",
    "          df[['tdl','tds']]\n",
    "          .join(\n",
    "              df.day.apply(lambda x: pd.Series(data=[pd.to_datetime(year_month+x.split('(')[0].zfill(2)),x.split('(')[1][0]],index=['date','dow'] ))\n",
    "          )\n",
    "         )\n",
    "    .set_index('date')\n",
    ")"
   ]
  },
  {
   "cell_type": "code",
   "execution_count": 34,
   "metadata": {},
   "outputs": [
    {
     "name": "stdout",
     "output_type": "stream",
     "text": [
      "not None\n"
     ]
    }
   ],
   "source": [
    "# table_df_old に値が格納されている場合\n",
    "if year_month in table_df_old.keys():\n",
    "    \n",
    "\n"
   ]
  },
  {
   "cell_type": "code",
   "execution_count": 64,
   "metadata": {},
   "outputs": [
    {
     "data": {
      "text/plain": [
       "'           dow tdl_new\\ndate                  \\n2021-06-12   土       〇'"
      ]
     },
     "execution_count": 64,
     "metadata": {},
     "output_type": "execute_result"
    }
   ],
   "source": [
    "f\"\"\"{(\n",
    "    table_df_old[year_month].loc[lambda df: df.dow.isin(CHECK_DOW)]\n",
    "    .join(table_df[['tdl','tds']],rsuffix='_new')\n",
    "    .loc[lambda df: (df.tdl != df.tdl_new) & (df.tdl_new.isin(['tdl','tdl is-few']))]\n",
    "    .replace({'tdl':'〇','tdl is-few':'△'})\n",
    "    .loc[:,['dow','tdl_new']]\n",
    ")}\"\"\""
   ]
  },
  {
   "cell_type": "code",
   "execution_count": 59,
   "metadata": {},
   "outputs": [
    {
     "data": {
      "text/html": [
       "<div>\n",
       "<style scoped>\n",
       "    .dataframe tbody tr th:only-of-type {\n",
       "        vertical-align: middle;\n",
       "    }\n",
       "\n",
       "    .dataframe tbody tr th {\n",
       "        vertical-align: top;\n",
       "    }\n",
       "\n",
       "    .dataframe thead th {\n",
       "        text-align: right;\n",
       "    }\n",
       "</style>\n",
       "<table border=\"1\" class=\"dataframe\">\n",
       "  <thead>\n",
       "    <tr style=\"text-align: right;\">\n",
       "      <th></th>\n",
       "      <th>dow</th>\n",
       "      <th>tds_new</th>\n",
       "    </tr>\n",
       "    <tr>\n",
       "      <th>date</th>\n",
       "      <th></th>\n",
       "      <th></th>\n",
       "    </tr>\n",
       "  </thead>\n",
       "  <tbody>\n",
       "    <tr>\n",
       "      <th>2021-06-12</th>\n",
       "      <td>土</td>\n",
       "      <td>△</td>\n",
       "    </tr>\n",
       "    <tr>\n",
       "      <th>2021-06-20</th>\n",
       "      <td>日</td>\n",
       "      <td>〇</td>\n",
       "    </tr>\n",
       "  </tbody>\n",
       "</table>\n",
       "</div>"
      ],
      "text/plain": [
       "           dow tds_new\n",
       "date                  \n",
       "2021-06-12   土       △\n",
       "2021-06-20   日       〇"
      ]
     },
     "execution_count": 59,
     "metadata": {},
     "output_type": "execute_result"
    }
   ],
   "source": [
    "(\n",
    "    table_df_old[year_month].loc[lambda df: df.dow.isin(CHECK_DOW)]\n",
    "    .join(table_df[['tdl','tds']],rsuffix='_new')\n",
    "    .loc[lambda df: (df.tds != df.tds_new) & (df.tds_new.isin(['tds','tds is-few']))]\n",
    "    .replace({'tds':'〇','tds is-few':'△'})\n",
    "    .loc[:,['dow','tds_new']]\n",
    ")"
   ]
  },
  {
   "cell_type": "code",
   "execution_count": 47,
   "metadata": {},
   "outputs": [],
   "source": [
    "table_df.loc['2021-06-12','tdl'] = 'tdl'\n",
    "table_df.loc['2021-06-12','tds'] = 'tds is-few'\n",
    "table_df.loc['2021-06-20','tds'] = 'tds'"
   ]
  },
  {
   "cell_type": "code",
   "execution_count": 37,
   "metadata": {},
   "outputs": [],
   "source": [
    "table_df_old[year_month] = table_df.copy()"
   ]
  }
 ],
 "metadata": {
  "kernelspec": {
   "display_name": "Python 3",
   "language": "python",
   "name": "python3"
  },
  "language_info": {
   "codemirror_mode": {
    "name": "ipython",
    "version": 3
   },
   "file_extension": ".py",
   "mimetype": "text/x-python",
   "name": "python",
   "nbconvert_exporter": "python",
   "pygments_lexer": "ipython3",
   "version": "3.8.5"
  }
 },
 "nbformat": 4,
 "nbformat_minor": 4
}
