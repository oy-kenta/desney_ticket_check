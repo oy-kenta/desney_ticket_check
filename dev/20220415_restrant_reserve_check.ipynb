{
 "cells": [
  {
   "cell_type": "markdown",
   "metadata": {},
   "source": [
    "# LINE Notify"
   ]
  },
  {
   "cell_type": "code",
   "execution_count": 171,
   "metadata": {},
   "outputs": [],
   "source": [
    "import os\n",
    "import requests"
   ]
  },
  {
   "cell_type": "code",
   "execution_count": 172,
   "metadata": {},
   "outputs": [],
   "source": [
    "notify_url = \"https://notify-api.line.me/api/notify\"\n",
    "access_token = open('access_token').read()\n",
    "headers = {'Authorization': 'Bearer ' + access_token}"
   ]
  },
  {
   "cell_type": "code",
   "execution_count": 6,
   "metadata": {},
   "outputs": [],
   "source": [
    "message = \"\"\"テスト\"\"\"\n",
    "payload = {'message': message}\n",
    "r = requests.post(notify_url, headers=headers, params=payload,)"
   ]
  },
  {
   "cell_type": "markdown",
   "metadata": {},
   "source": [
    "# スクレピング①"
   ]
  },
  {
   "cell_type": "code",
   "execution_count": 11,
   "metadata": {
    "tags": []
   },
   "outputs": [],
   "source": [
    "from bs4 import BeautifulSoup\n",
    "from lxml import html\n",
    "import urllib3"
   ]
  },
  {
   "cell_type": "code",
   "execution_count": 12,
   "metadata": {},
   "outputs": [],
   "source": [
    "# Web Connection\n",
    "http = urllib3.PoolManager()"
   ]
  },
  {
   "cell_type": "code",
   "execution_count": 31,
   "metadata": {},
   "outputs": [],
   "source": [
    "url = 'https://reserve.tokyodisneyresort.jp/restaurant/calendar/?useDate=20220515&searchUseDate=20220515&adultNum=2&searchAdultNum=2&childNum=2&searchChildNum=2&stretcherCount=0&searchStretcherCount=0&wheelchairCount=0&searchWheelchairCount=0&nameCd=RBBY0&searchNameCd=RBBY0&contentsCd=04&childAgeInform=06U%7C04%7C&searchChildAgeInform=06U%7C04%7C&mealDivList=3&searchMealDivList=3&searchKeyword=&reservationStatus=0'\n",
    "# xpath_data1 = '/html/body/div[2]/div[1]/div[3]/div[2]/div[2]/div/div/ul[1]/li[1]/p'\n",
    "xpath_data1 = '/html/body/div[2]/div[1]/div[3]/div[2]/div[2]/div/div'"
   ]
  },
  {
   "cell_type": "code",
   "execution_count": 32,
   "metadata": {},
   "outputs": [
    {
     "data": {
      "text/plain": [
       "[]"
      ]
     },
     "execution_count": 32,
     "metadata": {},
     "output_type": "execute_result"
    }
   ],
   "source": [
    "lxml_coverted_data = html.fromstring(\n",
    "    str(\n",
    "        BeautifulSoup(\n",
    "            http.request('GET', url).data,'html.parser'\n",
    "        )\n",
    "    )\n",
    ")\n",
    "\n",
    "data1 = lxml_coverted_data.xpath(xpath_data1)\n",
    "data1"
   ]
  },
  {
   "cell_type": "code",
   "execution_count": 36,
   "metadata": {},
   "outputs": [
    {
     "data": {
      "text/plain": [
       "'\\nAccess Denied\\n\\nAccess Denied\\n \\nYou don\\'t have permission to access \"http://reserve.tokyodisneyresort.jp/restaurant/calendar/?\" on this server.\\nReference #18.5faac117.1650032374.11de9a1a\\n\\n'"
      ]
     },
     "execution_count": 36,
     "metadata": {},
     "output_type": "execute_result"
    }
   ],
   "source": [
    "lxml_coverted_data.text_content()"
   ]
  },
  {
   "cell_type": "code",
   "execution_count": 38,
   "metadata": {},
   "outputs": [
    {
     "data": {
      "text/plain": [
       "'<Element html at 0x7efc67502270>'"
      ]
     },
     "execution_count": 38,
     "metadata": {},
     "output_type": "execute_result"
    }
   ],
   "source": [
    "str(lxml_coverted_data)"
   ]
  },
  {
   "cell_type": "markdown",
   "metadata": {},
   "source": [
    "# スクレピング②"
   ]
  },
  {
   "cell_type": "code",
   "execution_count": 12,
   "metadata": {
    "tags": []
   },
   "outputs": [],
   "source": [
    "from lxml import html"
   ]
  },
  {
   "cell_type": "code",
   "execution_count": 9,
   "metadata": {},
   "outputs": [],
   "source": [
    "from bs4 import BeautifulSoup\n",
    "from selenium import webdriver\n",
    "from selenium.webdriver.support.select import Select"
   ]
  },
  {
   "cell_type": "code",
   "execution_count": 120,
   "metadata": {},
   "outputs": [],
   "source": [
    "import time"
   ]
  },
  {
   "cell_type": "code",
   "execution_count": null,
   "metadata": {},
   "outputs": [],
   "source": []
  },
  {
   "cell_type": "code",
   "execution_count": 157,
   "metadata": {},
   "outputs": [],
   "source": [
    "url = 'https://reserve.tokyodisneyresort.jp/restaurant/calendar/?useDate=20220515&searchUseDate=20220515&adultNum=2&searchAdultNum=2&childNum=2&searchChildNum=2&stretcherCount=0&searchStretcherCount=0&wheelchairCount=0&searchWheelchairCount=0&nameCd=RBBY0&searchNameCd=RBBY0&contentsCd=04&childAgeInform=06U%7C04%7C&searchChildAgeInform=06U%7C04%7C&mealDivList=3&searchMealDivList=3&searchKeyword=&reservationStatus=0'\n",
    "\n",
    "\n",
    "# url = 'https://reserve.tokyodisneyresort.jp/restaurant/calendar/?useDate=20220513&searchUseDate=20220513&adultNum=2&searchAdultNum=2&childNum=2&searchChildNum=2&stretcherCount=0&searchStretcherCount=0&wheelchairCount=0&searchWheelchairCount=0&nameCd=RBPP0&searchNameCd=RBPP0&contentsCd=04&childAgeInform=06U%7C04%7C&searchChildAgeInform=06U%7C04%7C&mealDivList=3&searchMealDivList=3&searchKeyword=&reservationStatus=1'\n",
    "# xpath_data1 = '/html/body/div[2]/div[1]/div[3]/div[2]/div[2]/div/div/ul[1]/li[1]/p'\n",
    "# xpath_data1 = '/html/body/div[2]/div[1]/div[3]/div[2]/div[2]/div/div'\n",
    "xpath_data1 = '/html/body/div[2]/div[1]/div[3]/div[2]/div[2]/div/div/ul[1]/li'\n",
    "# xpath_data1 = '/html/body/div[2]/div[1]/div[3]/div[2]/div[2]/div/div/ul[1]'"
   ]
  },
  {
   "cell_type": "code",
   "execution_count": 158,
   "metadata": {},
   "outputs": [],
   "source": [
    "browser = webdriver.Chrome(executable_path = 'D:\\\\Python\\\\lib\\\\chromedriver\\\\100\\\\chromedriver.exe')\n"
   ]
  },
  {
   "cell_type": "code",
   "execution_count": 159,
   "metadata": {},
   "outputs": [],
   "source": [
    "time.sleep(3)\n",
    "browser.get(url)\n",
    "time.sleep(3)"
   ]
  },
  {
   "cell_type": "code",
   "execution_count": 161,
   "metadata": {},
   "outputs": [],
   "source": [
    "html_s = BeautifulSoup(browser.page_source, 'html.parser')"
   ]
  },
  {
   "cell_type": "code",
   "execution_count": 162,
   "metadata": {},
   "outputs": [],
   "source": [
    "lxml_coverted_data = html.fromstring(\n",
    "    str(\n",
    "        BeautifulSoup(browser.page_source, 'html.parser')\n",
    "    )\n",
    ")\n",
    "\n",
    "data1 = lxml_coverted_data.xpath(xpath_data1)"
   ]
  },
  {
   "cell_type": "code",
   "execution_count": 164,
   "metadata": {},
   "outputs": [
    {
     "data": {
      "text/plain": [
       "[<Element li at 0x15c9fe89c70>,\n",
       " <Element li at 0x15c9fe89720>,\n",
       " <Element li at 0x15c9fe89810>,\n",
       " <Element li at 0x15c9fe89860>,\n",
       " <Element li at 0x15c9fe89b80>,\n",
       " <Element li at 0x15c9fe89bd0>,\n",
       " <Element li at 0x15c9fe89950>,\n",
       " <Element li at 0x15c9fe89b30>,\n",
       " <Element li at 0x15c9fe898b0>,\n",
       " <Element li at 0x15c9fe897c0>]"
      ]
     },
     "execution_count": 164,
     "metadata": {},
     "output_type": "execute_result"
    }
   ],
   "source": [
    "data1"
   ]
  },
  {
   "cell_type": "code",
   "execution_count": 166,
   "metadata": {},
   "outputs": [
    {
     "data": {
      "text/plain": [
       "[['16:00', '満席'],\n",
       " ['16:10', '満席'],\n",
       " ['16:20', '満席'],\n",
       " ['16:30', '満席'],\n",
       " ['16:40', '満席'],\n",
       " ['16:50', '満席'],\n",
       " ['17:00', '満席'],\n",
       " ['17:10', '満席'],\n",
       " ['17:20', '満席'],\n",
       " ['17:30', '満席']]"
      ]
     },
     "execution_count": 166,
     "metadata": {},
     "output_type": "execute_result"
    }
   ],
   "source": [
    "reserve_list = [ [ y.text.replace('\\n','').replace(' ','') for y in x.getchildren()] for x in data1 ]\n",
    "reserve_list"
   ]
  },
  {
   "cell_type": "code",
   "execution_count": 167,
   "metadata": {},
   "outputs": [
    {
     "data": {
      "text/plain": [
       "[['16:00', '満席'],\n",
       " ['16:10', '満席'],\n",
       " ['16:20', '満席'],\n",
       " ['16:30', '満席'],\n",
       " ['16:40', ''],\n",
       " ['16:50', ''],\n",
       " ['17:00', '満席'],\n",
       " ['17:10', ''],\n",
       " ['17:20', ''],\n",
       " ['17:30', ''],\n",
       " ['17:40', ''],\n",
       " ['17:50', '満席'],\n",
       " ['18:00', '満席'],\n",
       " ['18:10', '満席'],\n",
       " ['18:20', '満席']]"
      ]
     },
     "execution_count": 167,
     "metadata": {},
     "output_type": "execute_result"
    }
   ],
   "source": [
    "reserve_list_scc"
   ]
  },
  {
   "cell_type": "code",
   "execution_count": 168,
   "metadata": {},
   "outputs": [],
   "source": [
    "browser.quit()"
   ]
  },
  {
   "cell_type": "code",
   "execution_count": 177,
   "metadata": {},
   "outputs": [],
   "source": [
    "check = list([])\n",
    "for ti, stt in reserve_list:\n",
    "    if stt != '満席':\n",
    "        check.append(ti)\n",
    "\n",
    "if len(check) > 0:\n",
    "    ok_times = ','.join(check)\n",
    "    msg = f\"\"\" (test) 空きが出ました！ \\n {ok_times} \"\"\"\n",
    "    payload = {'message': msg}\n",
    "    r = requests.post(notify_url, headers=headers, params=payload,)\n"
   ]
  }
 ],
 "metadata": {
  "kernelspec": {
   "display_name": "Python 3",
   "language": "python",
   "name": "python3"
  },
  "language_info": {
   "codemirror_mode": {
    "name": "ipython",
    "version": 3
   },
   "file_extension": ".py",
   "mimetype": "text/x-python",
   "name": "python",
   "nbconvert_exporter": "python",
   "pygments_lexer": "ipython3",
   "version": "3.8.5"
  }
 },
 "nbformat": 4,
 "nbformat_minor": 5
}
