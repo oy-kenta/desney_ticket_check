{
 "cells": [
  {
   "cell_type": "markdown",
   "id": "69e217f8-e525-4b6a-8e78-f3176b193cf5",
   "metadata": {},
   "source": [
    "# LINE Notify"
   ]
  },
  {
   "cell_type": "code",
   "execution_count": 5,
   "id": "bb2b33f0-a910-4939-a1e4-b62b512e52ec",
   "metadata": {},
   "outputs": [],
   "source": [
    "import os\n",
    "import requests"
   ]
  },
  {
   "cell_type": "code",
   "execution_count": 3,
   "id": "6a20c7d4-4d79-40cf-9309-b87e97485160",
   "metadata": {},
   "outputs": [],
   "source": [
    "url = \"https://notify-api.line.me/api/notify\"\n",
    "# access_token = os.environ['LINEN_TOKEN']\n",
    "access_token = open('access_token').read()\n",
    "headers = {'Authorization': 'Bearer ' + access_token}"
   ]
  },
  {
   "cell_type": "code",
   "execution_count": 6,
   "id": "38d50717-dfd4-41ef-be2f-ca11cb86635b",
   "metadata": {},
   "outputs": [],
   "source": [
    "message = \"\"\"テスト\"\"\"\n",
    "payload = {'message': message}\n",
    "r = requests.post(url, headers=headers, params=payload,)"
   ]
  },
  {
   "cell_type": "markdown",
   "id": "7a19bfa8-9979-4610-aa05-c1abe56baa01",
   "metadata": {},
   "source": [
    "# スクレピング"
   ]
  },
  {
   "cell_type": "code",
   "execution_count": 11,
   "id": "12c54df3-5e8d-47e0-a9bd-c9f2d9b3a4d2",
   "metadata": {
    "tags": []
   },
   "outputs": [],
   "source": [
    "from bs4 import BeautifulSoup\n",
    "from lxml import html\n",
    "import urllib3"
   ]
  },
  {
   "cell_type": "code",
   "execution_count": 12,
   "id": "835fe311-26cf-45b6-84a2-08552d4d2a8f",
   "metadata": {},
   "outputs": [],
   "source": [
    "# Web Connection\n",
    "http = urllib3.PoolManager()"
   ]
  },
  {
   "cell_type": "code",
   "execution_count": 31,
   "id": "48770485-4bf0-4bb3-85b9-91a5f38e97c9",
   "metadata": {},
   "outputs": [],
   "source": [
    "url = 'https://reserve.tokyodisneyresort.jp/restaurant/calendar/?useDate=20220515&searchUseDate=20220515&adultNum=2&searchAdultNum=2&childNum=2&searchChildNum=2&stretcherCount=0&searchStretcherCount=0&wheelchairCount=0&searchWheelchairCount=0&nameCd=RBBY0&searchNameCd=RBBY0&contentsCd=04&childAgeInform=06U%7C04%7C&searchChildAgeInform=06U%7C04%7C&mealDivList=3&searchMealDivList=3&searchKeyword=&reservationStatus=0'\n",
    "# xpath_data1 = '/html/body/div[2]/div[1]/div[3]/div[2]/div[2]/div/div/ul[1]/li[1]/p'\n",
    "xpath_data1 = '/html/body/div[2]/div[1]/div[3]/div[2]/div[2]/div/div'"
   ]
  },
  {
   "cell_type": "code",
   "execution_count": 32,
   "id": "2faa237b-4a53-492f-8095-8c84c63dcc41",
   "metadata": {},
   "outputs": [
    {
     "data": {
      "text/plain": [
       "[]"
      ]
     },
     "execution_count": 32,
     "metadata": {},
     "output_type": "execute_result"
    }
   ],
   "source": [
    "lxml_coverted_data = html.fromstring(\n",
    "    str(\n",
    "        BeautifulSoup(\n",
    "            http.request('GET', url).data,'html.parser'\n",
    "        )\n",
    "    )\n",
    ")\n",
    "\n",
    "data1 = lxml_coverted_data.xpath(xpath_data1)\n",
    "data1"
   ]
  },
  {
   "cell_type": "code",
   "execution_count": 36,
   "id": "26219419-0684-4046-937c-8ef7114db64a",
   "metadata": {},
   "outputs": [
    {
     "data": {
      "text/plain": [
       "'\\nAccess Denied\\n\\nAccess Denied\\n \\nYou don\\'t have permission to access \"http://reserve.tokyodisneyresort.jp/restaurant/calendar/?\" on this server.\\nReference #18.5faac117.1650032374.11de9a1a\\n\\n'"
      ]
     },
     "execution_count": 36,
     "metadata": {},
     "output_type": "execute_result"
    }
   ],
   "source": [
    "lxml_coverted_data.text_content()"
   ]
  },
  {
   "cell_type": "code",
   "execution_count": 38,
   "id": "5abaf963-939c-4f0d-8d65-f419a68de7d0",
   "metadata": {},
   "outputs": [
    {
     "data": {
      "text/plain": [
       "'<Element html at 0x7efc67502270>'"
      ]
     },
     "execution_count": 38,
     "metadata": {},
     "output_type": "execute_result"
    }
   ],
   "source": [
    "str(lxml_coverted_data)"
   ]
  }
 ],
 "metadata": {
  "kernelspec": {
   "display_name": "Python 3 (ipykernel)",
   "language": "python",
   "name": "python3"
  },
  "language_info": {
   "codemirror_mode": {
    "name": "ipython",
    "version": 3
   },
   "file_extension": ".py",
   "mimetype": "text/x-python",
   "name": "python",
   "nbconvert_exporter": "python",
   "pygments_lexer": "ipython3",
   "version": "3.9.7"
  }
 },
 "nbformat": 4,
 "nbformat_minor": 5
}
